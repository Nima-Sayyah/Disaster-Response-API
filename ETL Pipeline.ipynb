{
 "cells": [
  {
   "cell_type": "markdown",
   "id": "1ebf6f22",
   "metadata": {},
   "source": [
    "# ETL Pipeline\n",
    "Below are commands applied to construct an ETL Pipeline.\n",
    "### 1. Libraries & Datasets.\n",
    "- Import Python libraries\n",
    "- Load `messages.csv` into a dataframe for inspection.\n",
    "- Load `categories.csv` into a dataframe for inspection."
   ]
  },
  {
   "cell_type": "code",
   "execution_count": 1,
   "id": "2e22518e",
   "metadata": {},
   "outputs": [],
   "source": [
    "# import libraries\n",
    "import numpy as np\n",
    "import pandas as pd\n",
    "import sqlite3\n",
    "import sqlalchemy\n",
    "import matplotlib.pyplot as plt\n",
    "from sqlalchemy import create_engine"
   ]
  },
  {
   "cell_type": "code",
   "execution_count": null,
   "id": "2978de69",
   "metadata": {},
   "outputs": [],
   "source": []
  }
 ],
 "metadata": {
  "kernelspec": {
   "display_name": "Python 3",
   "language": "python",
   "name": "python3"
  },
  "language_info": {
   "codemirror_mode": {
    "name": "ipython",
    "version": 3
   },
   "file_extension": ".py",
   "mimetype": "text/x-python",
   "name": "python",
   "nbconvert_exporter": "python",
   "pygments_lexer": "ipython3",
   "version": "3.8.8"
  }
 },
 "nbformat": 4,
 "nbformat_minor": 5
}
